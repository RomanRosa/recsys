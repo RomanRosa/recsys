{
 "cells": [
  {
   "cell_type": "markdown",
   "metadata": {},
   "source": [
    "## **Import Required Dependencies**"
   ]
  },
  {
   "cell_type": "code",
   "execution_count": 4,
   "metadata": {},
   "outputs": [
    {
     "name": "stdout",
     "output_type": "stream",
     "text": [
      "matplotlib data path: c:\\anaconda3\\envs\\venv\\lib\\site-packages\\matplotlib\\mpl-data\n",
      "CONFIGDIR=C:\\Users\\roman\\.matplotlib\n",
      "interactive is False\n",
      "platform is win32\n",
      "CACHEDIR=C:\\Users\\roman\\.matplotlib\n",
      "font search path [WindowsPath('c:/anaconda3/envs/venv/lib/site-packages/matplotlib/mpl-data/fonts/ttf'), WindowsPath('c:/anaconda3/envs/venv/lib/site-packages/matplotlib/mpl-data/fonts/afm'), WindowsPath('c:/anaconda3/envs/venv/lib/site-packages/matplotlib/mpl-data/fonts/pdfcorefonts')]\n",
      "generated new fontManager\n",
      "Loaded backend module://matplotlib_inline.backend_inline version unknown.\n",
      "Loaded backend module://matplotlib_inline.backend_inline version unknown.\n"
     ]
    }
   ],
   "source": [
    "# Basics\n",
    "import pandas as pd\n",
    "import numpy as np\n",
    "import seaborn as sns\n",
    "import matplotlib.pyplot as plt\n",
    "%matplotlib inline\n",
    "\n",
    "# TensorFlow Recommenders\n",
    "import tensorflow_recommenders as tfrs\n",
    "import tensorflow as tf\n",
    "\n",
    "# Transformers\n",
    "\n",
    "# LLMs\n"
   ]
  },
  {
   "cell_type": "code",
   "execution_count": null,
   "metadata": {},
   "outputs": [],
   "source": []
  }
 ],
 "metadata": {
  "kernelspec": {
   "display_name": "Python 3",
   "language": "python",
   "name": "python3"
  },
  "language_info": {
   "codemirror_mode": {
    "name": "ipython",
    "version": 3
   },
   "file_extension": ".py",
   "mimetype": "text/x-python",
   "name": "python",
   "nbconvert_exporter": "python",
   "pygments_lexer": "ipython3",
   "version": "3.9.18"
  }
 },
 "nbformat": 4,
 "nbformat_minor": 2
}
