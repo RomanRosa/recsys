{
 "cells": [
  {
   "cell_type": "markdown",
   "metadata": {},
   "source": [
    "## **Import Required Dependencies**"
   ]
  },
  {
   "cell_type": "code",
   "execution_count": 5,
   "metadata": {},
   "outputs": [
    {
     "ename": "ModuleNotFoundError",
     "evalue": "No module named 'dotenv'",
     "output_type": "error",
     "traceback": [
      "\u001b[1;31m---------------------------------------------------------------------------\u001b[0m",
      "\u001b[1;31mModuleNotFoundError\u001b[0m                       Traceback (most recent call last)",
      "\u001b[1;32mc:\\github_repos\\recsys\\notebooks\\2.-EDA Rec. Sys. - TensorFlow Recommenders.ipynb Cell 2\u001b[0m line \u001b[0;36m1\n\u001b[0;32m     <a href='vscode-notebook-cell:/c%3A/github_repos/recsys/notebooks/2.-EDA%20Rec.%20Sys.%20-%20TensorFlow%20Recommenders.ipynb#W1sZmlsZQ%3D%3D?line=10'>11</a>\u001b[0m \u001b[39m# Import Environment Variables\u001b[39;00m\n\u001b[0;32m     <a href='vscode-notebook-cell:/c%3A/github_repos/recsys/notebooks/2.-EDA%20Rec.%20Sys.%20-%20TensorFlow%20Recommenders.ipynb#W1sZmlsZQ%3D%3D?line=11'>12</a>\u001b[0m \u001b[39mimport\u001b[39;00m \u001b[39mos\u001b[39;00m\n\u001b[1;32m---> <a href='vscode-notebook-cell:/c%3A/github_repos/recsys/notebooks/2.-EDA%20Rec.%20Sys.%20-%20TensorFlow%20Recommenders.ipynb#W1sZmlsZQ%3D%3D?line=12'>13</a>\u001b[0m \u001b[39mfrom\u001b[39;00m \u001b[39mdotenv\u001b[39;00m \u001b[39mimport\u001b[39;00m load_dotenv, find_dotenv\n\u001b[0;32m     <a href='vscode-notebook-cell:/c%3A/github_repos/recsys/notebooks/2.-EDA%20Rec.%20Sys.%20-%20TensorFlow%20Recommenders.ipynb#W1sZmlsZQ%3D%3D?line=13'>14</a>\u001b[0m load_dotenv(find_dotenv(), override\u001b[39m=\u001b[39m\u001b[39mTrue\u001b[39;00m)\n",
      "\u001b[1;31mModuleNotFoundError\u001b[0m: No module named 'dotenv'"
     ]
    }
   ],
   "source": [
    "# Basics\n",
    "import pandas as pd\n",
    "import numpy as np\n",
    "import seaborn as sns\n",
    "import matplotlib.pyplot as plt\n",
    "\n",
    "# TensorFlow Recommenders\n",
    "import tensorflow_recommenders as tfrs\n",
    "import tensorflow as tf\n",
    "\n",
    "# Import Environment Variables\n",
    "import os\n",
    "from dotenv import load_dotenv, find_dotenv\n",
    "load_dotenv(find_dotenv(), override=True)"
   ]
  },
  {
   "cell_type": "code",
   "execution_count": 4,
   "metadata": {},
   "outputs": [
    {
     "ename": "ModuleNotFoundError",
     "evalue": "No module named 'langchain'",
     "output_type": "error",
     "traceback": [
      "\u001b[1;31m---------------------------------------------------------------------------\u001b[0m",
      "\u001b[1;31mModuleNotFoundError\u001b[0m                       Traceback (most recent call last)",
      "\u001b[1;32mc:\\github_repos\\recsys\\notebooks\\2.-EDA Rec. Sys. - TensorFlow Recommenders.ipynb Cell 3\u001b[0m line \u001b[0;36m2\n\u001b[0;32m      <a href='vscode-notebook-cell:/c%3A/github_repos/recsys/notebooks/2.-EDA%20Rec.%20Sys.%20-%20TensorFlow%20Recommenders.ipynb#W4sZmlsZQ%3D%3D?line=0'>1</a>\u001b[0m \u001b[39m# LangChain\u001b[39;00m\n\u001b[1;32m----> <a href='vscode-notebook-cell:/c%3A/github_repos/recsys/notebooks/2.-EDA%20Rec.%20Sys.%20-%20TensorFlow%20Recommenders.ipynb#W4sZmlsZQ%3D%3D?line=1'>2</a>\u001b[0m \u001b[39mfrom\u001b[39;00m \u001b[39mlangchain\u001b[39;00m\u001b[39m.\u001b[39;00m\u001b[39membeddings\u001b[39;00m \u001b[39mimport\u001b[39;00m LangChainEmbeddings\n",
      "\u001b[1;31mModuleNotFoundError\u001b[0m: No module named 'langchain'"
     ]
    }
   ],
   "source": [
    "# LangChain\n",
    "from langchain.embeddings import LangChainEmbeddings"
   ]
  },
  {
   "cell_type": "code",
   "execution_count": null,
   "metadata": {},
   "outputs": [],
   "source": [
    "embeddings_model = LangChainEmbeddings()"
   ]
  },
  {
   "cell_type": "code",
   "execution_count": null,
   "metadata": {},
   "outputs": [],
   "source": [
    "# define Required Columns for Embedding\n",
    "columns = [\n",
    "    \"Job Title\", \"Company\", \"Interest\", \"Needs\", \"Skills\",\n",
    "    \"A Key Organizational Need\", \"Target Connection for the Organization\",\n",
    "    \"Short Term Goal\", \"Long Term Goal\", \"Open To\", \"Call To Action\",\n",
    "    \"Impact Story\", \"Top Needs\", \"Who Do You Want To Connect With?\", \"Goals\"\n",
    "]"
   ]
  }
 ],
 "metadata": {
  "kernelspec": {
   "display_name": "venv",
   "language": "python",
   "name": "python3"
  },
  "language_info": {
   "codemirror_mode": {
    "name": "ipython",
    "version": 3
   },
   "file_extension": ".py",
   "mimetype": "text/x-python",
   "name": "python",
   "nbconvert_exporter": "python",
   "pygments_lexer": "ipython3",
   "version": "3.9.18"
  }
 },
 "nbformat": 4,
 "nbformat_minor": 2
}
