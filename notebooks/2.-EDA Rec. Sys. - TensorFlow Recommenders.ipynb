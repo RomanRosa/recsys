{
 "cells": [
  {
   "cell_type": "markdown",
   "metadata": {},
   "source": [
    "## **Import Required Dependencies**"
   ]
  },
  {
   "cell_type": "code",
   "execution_count": 3,
   "metadata": {},
   "outputs": [
    {
     "name": "stdout",
     "output_type": "stream",
     "text": [
      "Requirement already satisfied: python-dotenv in c:\\anaconda3\\envs\\venv\\lib\\site-packages (1.0.0)\n",
      "Requirement already satisfied: langchain in c:\\anaconda3\\envs\\venv\\lib\\site-packages (0.0.352)\n",
      "Requirement already satisfied: PyYAML>=5.3 in c:\\anaconda3\\envs\\venv\\lib\\site-packages (from langchain) (6.0.1)\n",
      "Requirement already satisfied: SQLAlchemy<3,>=1.4 in c:\\anaconda3\\envs\\venv\\lib\\site-packages (from langchain) (2.0.23)\n",
      "Requirement already satisfied: aiohttp<4.0.0,>=3.8.3 in c:\\anaconda3\\envs\\venv\\lib\\site-packages (from langchain) (3.9.1)\n",
      "Requirement already satisfied: async-timeout<5.0.0,>=4.0.0 in c:\\anaconda3\\envs\\venv\\lib\\site-packages (from langchain) (4.0.3)\n",
      "Requirement already satisfied: dataclasses-json<0.7,>=0.5.7 in c:\\anaconda3\\envs\\venv\\lib\\site-packages (from langchain) (0.6.3)\n",
      "Requirement already satisfied: jsonpatch<2.0,>=1.33 in c:\\anaconda3\\envs\\venv\\lib\\site-packages (from langchain) (1.33)\n",
      "Requirement already satisfied: langchain-community<0.1,>=0.0.2 in c:\\anaconda3\\envs\\venv\\lib\\site-packages (from langchain) (0.0.6)\n",
      "Requirement already satisfied: langchain-core<0.2,>=0.1 in c:\\anaconda3\\envs\\venv\\lib\\site-packages (from langchain) (0.1.3)\n",
      "Requirement already satisfied: langsmith<0.1.0,>=0.0.70 in c:\\anaconda3\\envs\\venv\\lib\\site-packages (from langchain) (0.0.75)\n",
      "Requirement already satisfied: numpy<2,>=1 in c:\\anaconda3\\envs\\venv\\lib\\site-packages (from langchain) (1.26.2)\n",
      "Requirement already satisfied: pydantic<3,>=1 in c:\\anaconda3\\envs\\venv\\lib\\site-packages (from langchain) (2.5.3)\n",
      "Requirement already satisfied: requests<3,>=2 in c:\\anaconda3\\envs\\venv\\lib\\site-packages (from langchain) (2.31.0)\n",
      "Requirement already satisfied: tenacity<9.0.0,>=8.1.0 in c:\\anaconda3\\envs\\venv\\lib\\site-packages (from langchain) (8.2.3)\n",
      "Requirement already satisfied: attrs>=17.3.0 in c:\\anaconda3\\envs\\venv\\lib\\site-packages (from aiohttp<4.0.0,>=3.8.3->langchain) (23.1.0)\n",
      "Requirement already satisfied: multidict<7.0,>=4.5 in c:\\anaconda3\\envs\\venv\\lib\\site-packages (from aiohttp<4.0.0,>=3.8.3->langchain) (6.0.4)\n",
      "Requirement already satisfied: yarl<2.0,>=1.0 in c:\\anaconda3\\envs\\venv\\lib\\site-packages (from aiohttp<4.0.0,>=3.8.3->langchain) (1.9.4)\n",
      "Requirement already satisfied: frozenlist>=1.1.1 in c:\\anaconda3\\envs\\venv\\lib\\site-packages (from aiohttp<4.0.0,>=3.8.3->langchain) (1.4.1)\n",
      "Requirement already satisfied: aiosignal>=1.1.2 in c:\\anaconda3\\envs\\venv\\lib\\site-packages (from aiohttp<4.0.0,>=3.8.3->langchain) (1.3.1)\n",
      "Requirement already satisfied: marshmallow<4.0.0,>=3.18.0 in c:\\anaconda3\\envs\\venv\\lib\\site-packages (from dataclasses-json<0.7,>=0.5.7->langchain) (3.20.1)\n",
      "Requirement already satisfied: typing-inspect<1,>=0.4.0 in c:\\anaconda3\\envs\\venv\\lib\\site-packages (from dataclasses-json<0.7,>=0.5.7->langchain) (0.9.0)\n",
      "Requirement already satisfied: jsonpointer>=1.9 in c:\\anaconda3\\envs\\venv\\lib\\site-packages (from jsonpatch<2.0,>=1.33->langchain) (2.4)\n",
      "Requirement already satisfied: anyio<5,>=3 in c:\\anaconda3\\envs\\venv\\lib\\site-packages (from langchain-core<0.2,>=0.1->langchain) (4.2.0)\n",
      "Requirement already satisfied: packaging<24.0,>=23.2 in c:\\anaconda3\\envs\\venv\\lib\\site-packages (from langchain-core<0.2,>=0.1->langchain) (23.2)\n",
      "Requirement already satisfied: annotated-types>=0.4.0 in c:\\anaconda3\\envs\\venv\\lib\\site-packages (from pydantic<3,>=1->langchain) (0.6.0)\n",
      "Requirement already satisfied: pydantic-core==2.14.6 in c:\\anaconda3\\envs\\venv\\lib\\site-packages (from pydantic<3,>=1->langchain) (2.14.6)\n",
      "Requirement already satisfied: typing-extensions>=4.6.1 in c:\\anaconda3\\envs\\venv\\lib\\site-packages (from pydantic<3,>=1->langchain) (4.7.1)\n",
      "Requirement already satisfied: charset-normalizer<4,>=2 in c:\\anaconda3\\envs\\venv\\lib\\site-packages (from requests<3,>=2->langchain) (3.3.2)\n",
      "Requirement already satisfied: idna<4,>=2.5 in c:\\anaconda3\\envs\\venv\\lib\\site-packages (from requests<3,>=2->langchain) (3.6)\n",
      "Requirement already satisfied: urllib3<3,>=1.21.1 in c:\\anaconda3\\envs\\venv\\lib\\site-packages (from requests<3,>=2->langchain) (2.1.0)\n",
      "Requirement already satisfied: certifi>=2017.4.17 in c:\\anaconda3\\envs\\venv\\lib\\site-packages (from requests<3,>=2->langchain) (2023.11.17)\n",
      "Requirement already satisfied: greenlet!=0.4.17 in c:\\anaconda3\\envs\\venv\\lib\\site-packages (from SQLAlchemy<3,>=1.4->langchain) (3.0.3)\n",
      "Requirement already satisfied: sniffio>=1.1 in c:\\anaconda3\\envs\\venv\\lib\\site-packages (from anyio<5,>=3->langchain-core<0.2,>=0.1->langchain) (1.3.0)\n",
      "Requirement already satisfied: exceptiongroup>=1.0.2 in c:\\anaconda3\\envs\\venv\\lib\\site-packages (from anyio<5,>=3->langchain-core<0.2,>=0.1->langchain) (1.0.4)\n",
      "Requirement already satisfied: mypy-extensions>=0.3.0 in c:\\anaconda3\\envs\\venv\\lib\\site-packages (from typing-inspect<1,>=0.4.0->dataclasses-json<0.7,>=0.5.7->langchain) (1.0.0)\n",
      "Requirement already satisfied: langchain_experimental in c:\\anaconda3\\envs\\venv\\lib\\site-packages (0.0.47)\n",
      "Requirement already satisfied: langchain<0.1,>=0.0.350 in c:\\anaconda3\\envs\\venv\\lib\\site-packages (from langchain_experimental) (0.0.352)\n",
      "Requirement already satisfied: langchain-core<0.2,>=0.1 in c:\\anaconda3\\envs\\venv\\lib\\site-packages (from langchain_experimental) (0.1.3)\n",
      "Requirement already satisfied: PyYAML>=5.3 in c:\\anaconda3\\envs\\venv\\lib\\site-packages (from langchain<0.1,>=0.0.350->langchain_experimental) (6.0.1)\n",
      "Requirement already satisfied: SQLAlchemy<3,>=1.4 in c:\\anaconda3\\envs\\venv\\lib\\site-packages (from langchain<0.1,>=0.0.350->langchain_experimental) (2.0.23)\n",
      "Requirement already satisfied: aiohttp<4.0.0,>=3.8.3 in c:\\anaconda3\\envs\\venv\\lib\\site-packages (from langchain<0.1,>=0.0.350->langchain_experimental) (3.9.1)\n",
      "Requirement already satisfied: async-timeout<5.0.0,>=4.0.0 in c:\\anaconda3\\envs\\venv\\lib\\site-packages (from langchain<0.1,>=0.0.350->langchain_experimental) (4.0.3)\n",
      "Requirement already satisfied: dataclasses-json<0.7,>=0.5.7 in c:\\anaconda3\\envs\\venv\\lib\\site-packages (from langchain<0.1,>=0.0.350->langchain_experimental) (0.6.3)\n",
      "Requirement already satisfied: jsonpatch<2.0,>=1.33 in c:\\anaconda3\\envs\\venv\\lib\\site-packages (from langchain<0.1,>=0.0.350->langchain_experimental) (1.33)\n",
      "Requirement already satisfied: langchain-community<0.1,>=0.0.2 in c:\\anaconda3\\envs\\venv\\lib\\site-packages (from langchain<0.1,>=0.0.350->langchain_experimental) (0.0.6)\n",
      "Requirement already satisfied: langsmith<0.1.0,>=0.0.70 in c:\\anaconda3\\envs\\venv\\lib\\site-packages (from langchain<0.1,>=0.0.350->langchain_experimental) (0.0.75)\n",
      "Requirement already satisfied: numpy<2,>=1 in c:\\anaconda3\\envs\\venv\\lib\\site-packages (from langchain<0.1,>=0.0.350->langchain_experimental) (1.26.2)\n",
      "Requirement already satisfied: pydantic<3,>=1 in c:\\anaconda3\\envs\\venv\\lib\\site-packages (from langchain<0.1,>=0.0.350->langchain_experimental) (2.5.3)\n",
      "Requirement already satisfied: requests<3,>=2 in c:\\anaconda3\\envs\\venv\\lib\\site-packages (from langchain<0.1,>=0.0.350->langchain_experimental) (2.31.0)\n",
      "Requirement already satisfied: tenacity<9.0.0,>=8.1.0 in c:\\anaconda3\\envs\\venv\\lib\\site-packages (from langchain<0.1,>=0.0.350->langchain_experimental) (8.2.3)\n",
      "Requirement already satisfied: anyio<5,>=3 in c:\\anaconda3\\envs\\venv\\lib\\site-packages (from langchain-core<0.2,>=0.1->langchain_experimental) (4.2.0)\n",
      "Requirement already satisfied: packaging<24.0,>=23.2 in c:\\anaconda3\\envs\\venv\\lib\\site-packages (from langchain-core<0.2,>=0.1->langchain_experimental) (23.2)\n",
      "Requirement already satisfied: attrs>=17.3.0 in c:\\anaconda3\\envs\\venv\\lib\\site-packages (from aiohttp<4.0.0,>=3.8.3->langchain<0.1,>=0.0.350->langchain_experimental) (23.1.0)\n",
      "Requirement already satisfied: multidict<7.0,>=4.5 in c:\\anaconda3\\envs\\venv\\lib\\site-packages (from aiohttp<4.0.0,>=3.8.3->langchain<0.1,>=0.0.350->langchain_experimental) (6.0.4)\n",
      "Requirement already satisfied: yarl<2.0,>=1.0 in c:\\anaconda3\\envs\\venv\\lib\\site-packages (from aiohttp<4.0.0,>=3.8.3->langchain<0.1,>=0.0.350->langchain_experimental) (1.9.4)\n",
      "Requirement already satisfied: frozenlist>=1.1.1 in c:\\anaconda3\\envs\\venv\\lib\\site-packages (from aiohttp<4.0.0,>=3.8.3->langchain<0.1,>=0.0.350->langchain_experimental) (1.4.1)\n",
      "Requirement already satisfied: aiosignal>=1.1.2 in c:\\anaconda3\\envs\\venv\\lib\\site-packages (from aiohttp<4.0.0,>=3.8.3->langchain<0.1,>=0.0.350->langchain_experimental) (1.3.1)\n",
      "Requirement already satisfied: idna>=2.8 in c:\\anaconda3\\envs\\venv\\lib\\site-packages (from anyio<5,>=3->langchain-core<0.2,>=0.1->langchain_experimental) (3.6)\n",
      "Requirement already satisfied: sniffio>=1.1 in c:\\anaconda3\\envs\\venv\\lib\\site-packages (from anyio<5,>=3->langchain-core<0.2,>=0.1->langchain_experimental) (1.3.0)\n",
      "Requirement already satisfied: exceptiongroup>=1.0.2 in c:\\anaconda3\\envs\\venv\\lib\\site-packages (from anyio<5,>=3->langchain-core<0.2,>=0.1->langchain_experimental) (1.0.4)\n",
      "Requirement already satisfied: typing-extensions>=4.1 in c:\\anaconda3\\envs\\venv\\lib\\site-packages (from anyio<5,>=3->langchain-core<0.2,>=0.1->langchain_experimental) (4.7.1)\n",
      "Requirement already satisfied: marshmallow<4.0.0,>=3.18.0 in c:\\anaconda3\\envs\\venv\\lib\\site-packages (from dataclasses-json<0.7,>=0.5.7->langchain<0.1,>=0.0.350->langchain_experimental) (3.20.1)\n",
      "Requirement already satisfied: typing-inspect<1,>=0.4.0 in c:\\anaconda3\\envs\\venv\\lib\\site-packages (from dataclasses-json<0.7,>=0.5.7->langchain<0.1,>=0.0.350->langchain_experimental) (0.9.0)\n",
      "Requirement already satisfied: jsonpointer>=1.9 in c:\\anaconda3\\envs\\venv\\lib\\site-packages (from jsonpatch<2.0,>=1.33->langchain<0.1,>=0.0.350->langchain_experimental) (2.4)\n",
      "Requirement already satisfied: annotated-types>=0.4.0 in c:\\anaconda3\\envs\\venv\\lib\\site-packages (from pydantic<3,>=1->langchain<0.1,>=0.0.350->langchain_experimental) (0.6.0)\n",
      "Requirement already satisfied: pydantic-core==2.14.6 in c:\\anaconda3\\envs\\venv\\lib\\site-packages (from pydantic<3,>=1->langchain<0.1,>=0.0.350->langchain_experimental) (2.14.6)\n",
      "Requirement already satisfied: charset-normalizer<4,>=2 in c:\\anaconda3\\envs\\venv\\lib\\site-packages (from requests<3,>=2->langchain<0.1,>=0.0.350->langchain_experimental) (3.3.2)\n",
      "Requirement already satisfied: urllib3<3,>=1.21.1 in c:\\anaconda3\\envs\\venv\\lib\\site-packages (from requests<3,>=2->langchain<0.1,>=0.0.350->langchain_experimental) (2.1.0)\n",
      "Requirement already satisfied: certifi>=2017.4.17 in c:\\anaconda3\\envs\\venv\\lib\\site-packages (from requests<3,>=2->langchain<0.1,>=0.0.350->langchain_experimental) (2023.11.17)\n",
      "Requirement already satisfied: greenlet!=0.4.17 in c:\\anaconda3\\envs\\venv\\lib\\site-packages (from SQLAlchemy<3,>=1.4->langchain<0.1,>=0.0.350->langchain_experimental) (3.0.3)\n",
      "Requirement already satisfied: mypy-extensions>=0.3.0 in c:\\anaconda3\\envs\\venv\\lib\\site-packages (from typing-inspect<1,>=0.4.0->dataclasses-json<0.7,>=0.5.7->langchain<0.1,>=0.0.350->langchain_experimental) (1.0.0)\n",
      "Collecting pinecone-client\n",
      "  Using cached pinecone_client-2.2.4-py3-none-any.whl.metadata (7.8 kB)\n",
      "Requirement already satisfied: requests>=2.19.0 in c:\\anaconda3\\envs\\venv\\lib\\site-packages (from pinecone-client) (2.31.0)\n",
      "Requirement already satisfied: pyyaml>=5.4 in c:\\anaconda3\\envs\\venv\\lib\\site-packages (from pinecone-client) (6.0.1)\n",
      "Collecting loguru>=0.5.0 (from pinecone-client)\n",
      "  Using cached loguru-0.7.2-py3-none-any.whl.metadata (23 kB)\n",
      "Requirement already satisfied: typing-extensions>=3.7.4 in c:\\anaconda3\\envs\\venv\\lib\\site-packages (from pinecone-client) (4.7.1)\n",
      "Collecting dnspython>=2.0.0 (from pinecone-client)\n",
      "  Using cached dnspython-2.4.2-py3-none-any.whl.metadata (4.9 kB)\n",
      "Requirement already satisfied: python-dateutil>=2.5.3 in c:\\anaconda3\\envs\\venv\\lib\\site-packages (from pinecone-client) (2.8.2)\n",
      "Requirement already satisfied: urllib3>=1.21.1 in c:\\anaconda3\\envs\\venv\\lib\\site-packages (from pinecone-client) (2.1.0)\n",
      "Requirement already satisfied: tqdm>=4.64.1 in c:\\anaconda3\\envs\\venv\\lib\\site-packages (from pinecone-client) (4.66.1)\n",
      "Requirement already satisfied: numpy>=1.22.0 in c:\\anaconda3\\envs\\venv\\lib\\site-packages (from pinecone-client) (1.26.2)\n",
      "Requirement already satisfied: colorama>=0.3.4 in c:\\anaconda3\\envs\\venv\\lib\\site-packages (from loguru>=0.5.0->pinecone-client) (0.4.6)\n",
      "Collecting win32-setctime>=1.0.0 (from loguru>=0.5.0->pinecone-client)\n",
      "  Using cached win32_setctime-1.1.0-py3-none-any.whl (3.6 kB)\n",
      "Requirement already satisfied: six>=1.5 in c:\\anaconda3\\envs\\venv\\lib\\site-packages (from python-dateutil>=2.5.3->pinecone-client) (1.16.0)\n",
      "Requirement already satisfied: charset-normalizer<4,>=2 in c:\\anaconda3\\envs\\venv\\lib\\site-packages (from requests>=2.19.0->pinecone-client) (3.3.2)\n",
      "Requirement already satisfied: idna<4,>=2.5 in c:\\anaconda3\\envs\\venv\\lib\\site-packages (from requests>=2.19.0->pinecone-client) (3.6)\n",
      "Requirement already satisfied: certifi>=2017.4.17 in c:\\anaconda3\\envs\\venv\\lib\\site-packages (from requests>=2.19.0->pinecone-client) (2023.11.17)\n",
      "Using cached pinecone_client-2.2.4-py3-none-any.whl (179 kB)\n",
      "Using cached dnspython-2.4.2-py3-none-any.whl (300 kB)\n",
      "Using cached loguru-0.7.2-py3-none-any.whl (62 kB)\n",
      "Installing collected packages: win32-setctime, dnspython, loguru, pinecone-client\n",
      "Successfully installed dnspython-2.4.2 loguru-0.7.2 pinecone-client-2.2.4 win32-setctime-1.1.0\n"
     ]
    }
   ],
   "source": [
    "!pip install python-dotenv\n",
    "!pip install langchain\n",
    "!pip install langchain_experimental\n",
    "!pip install pinecone-client"
   ]
  },
  {
   "cell_type": "code",
   "execution_count": 1,
   "metadata": {},
   "outputs": [
    {
     "name": "stdout",
     "output_type": "stream",
     "text": [
      "WARNING:tensorflow:From c:\\anaconda3\\envs\\venv\\lib\\site-packages\\keras\\src\\losses.py:2976: The name tf.losses.sparse_softmax_cross_entropy is deprecated. Please use tf.compat.v1.losses.sparse_softmax_cross_entropy instead.\n",
      "\n"
     ]
    },
    {
     "ename": "ModuleNotFoundError",
     "evalue": "No module named 'dotenv'",
     "output_type": "error",
     "traceback": [
      "\u001b[1;31m---------------------------------------------------------------------------\u001b[0m",
      "\u001b[1;31mModuleNotFoundError\u001b[0m                       Traceback (most recent call last)",
      "\u001b[1;32mc:\\github_repos\\recsys\\notebooks\\2.-EDA Rec. Sys. - TensorFlow Recommenders.ipynb Cell 2\u001b[0m line \u001b[0;36m1\n\u001b[0;32m     <a href='vscode-notebook-cell:/c%3A/github_repos/recsys/notebooks/2.-EDA%20Rec.%20Sys.%20-%20TensorFlow%20Recommenders.ipynb#W1sZmlsZQ%3D%3D?line=10'>11</a>\u001b[0m \u001b[39m# Import Environment Variables\u001b[39;00m\n\u001b[0;32m     <a href='vscode-notebook-cell:/c%3A/github_repos/recsys/notebooks/2.-EDA%20Rec.%20Sys.%20-%20TensorFlow%20Recommenders.ipynb#W1sZmlsZQ%3D%3D?line=11'>12</a>\u001b[0m \u001b[39mimport\u001b[39;00m \u001b[39mos\u001b[39;00m\n\u001b[1;32m---> <a href='vscode-notebook-cell:/c%3A/github_repos/recsys/notebooks/2.-EDA%20Rec.%20Sys.%20-%20TensorFlow%20Recommenders.ipynb#W1sZmlsZQ%3D%3D?line=12'>13</a>\u001b[0m \u001b[39mfrom\u001b[39;00m \u001b[39mdotenv\u001b[39;00m \u001b[39mimport\u001b[39;00m load_dotenv, find_dotenv\n\u001b[0;32m     <a href='vscode-notebook-cell:/c%3A/github_repos/recsys/notebooks/2.-EDA%20Rec.%20Sys.%20-%20TensorFlow%20Recommenders.ipynb#W1sZmlsZQ%3D%3D?line=13'>14</a>\u001b[0m load_dotenv(find_dotenv(), override\u001b[39m=\u001b[39m\u001b[39mTrue\u001b[39;00m)\n",
      "\u001b[1;31mModuleNotFoundError\u001b[0m: No module named 'dotenv'"
     ]
    }
   ],
   "source": [
    "# Basics\n",
    "import pandas as pd\n",
    "import numpy as np\n",
    "import seaborn as sns\n",
    "import matplotlib.pyplot as plt\n",
    "\n",
    "# TensorFlow Recommenders\n",
    "import tensorflow_recommenders as tfrs\n",
    "import tensorflow as tf\n",
    "\n",
    "# Import Environment Variables\n",
    "import os\n",
    "from dotenv import load_dotenv, find_dotenv\n",
    "load_dotenv(find_dotenv(), override=True)"
   ]
  },
  {
   "cell_type": "code",
   "execution_count": 4,
   "metadata": {},
   "outputs": [
    {
     "ename": "ModuleNotFoundError",
     "evalue": "No module named 'langchain'",
     "output_type": "error",
     "traceback": [
      "\u001b[1;31m---------------------------------------------------------------------------\u001b[0m",
      "\u001b[1;31mModuleNotFoundError\u001b[0m                       Traceback (most recent call last)",
      "\u001b[1;32mc:\\github_repos\\recsys\\notebooks\\2.-EDA Rec. Sys. - TensorFlow Recommenders.ipynb Cell 3\u001b[0m line \u001b[0;36m2\n\u001b[0;32m      <a href='vscode-notebook-cell:/c%3A/github_repos/recsys/notebooks/2.-EDA%20Rec.%20Sys.%20-%20TensorFlow%20Recommenders.ipynb#W4sZmlsZQ%3D%3D?line=0'>1</a>\u001b[0m \u001b[39m# LangChain\u001b[39;00m\n\u001b[1;32m----> <a href='vscode-notebook-cell:/c%3A/github_repos/recsys/notebooks/2.-EDA%20Rec.%20Sys.%20-%20TensorFlow%20Recommenders.ipynb#W4sZmlsZQ%3D%3D?line=1'>2</a>\u001b[0m \u001b[39mfrom\u001b[39;00m \u001b[39mlangchain\u001b[39;00m\u001b[39m.\u001b[39;00m\u001b[39membeddings\u001b[39;00m \u001b[39mimport\u001b[39;00m LangChainEmbeddings\n",
      "\u001b[1;31mModuleNotFoundError\u001b[0m: No module named 'langchain'"
     ]
    }
   ],
   "source": [
    "# LangChain\n",
    "from langchain.embeddings import LangChainEmbeddings"
   ]
  },
  {
   "cell_type": "code",
   "execution_count": null,
   "metadata": {},
   "outputs": [],
   "source": [
    "embeddings_model = LangChainEmbeddings()"
   ]
  },
  {
   "cell_type": "code",
   "execution_count": null,
   "metadata": {},
   "outputs": [],
   "source": [
    "# define Required Columns for Embedding\n",
    "columns = [\n",
    "    \"Job Title\", \"Company\", \"Interest\", \"Needs\", \"Skills\",\n",
    "    \"A Key Organizational Need\", \"Target Connection for the Organization\",\n",
    "    \"Short Term Goal\", \"Long Term Goal\", \"Open To\", \"Call To Action\",\n",
    "    \"Impact Story\", \"Top Needs\", \"Who Do You Want To Connect With?\", \"Goals\"\n",
    "]"
   ]
  }
 ],
 "metadata": {
  "kernelspec": {
   "display_name": "venv",
   "language": "python",
   "name": "python3"
  },
  "language_info": {
   "codemirror_mode": {
    "name": "ipython",
    "version": 3
   },
   "file_extension": ".py",
   "mimetype": "text/x-python",
   "name": "python",
   "nbconvert_exporter": "python",
   "pygments_lexer": "ipython3",
   "version": "3.9.18"
  }
 },
 "nbformat": 4,
 "nbformat_minor": 2
}
